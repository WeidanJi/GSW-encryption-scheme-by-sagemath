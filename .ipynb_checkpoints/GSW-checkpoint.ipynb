{
 "cells": [
  {
   "cell_type": "code",
   "execution_count": 566,
   "metadata": {},
   "outputs": [],
   "source": [
    "def define_Zq_ring(q, n):\n",
    "#     R = QuotientRing(ZZ, q*ZZ)\n",
    "    R = PolynomialRing(Zmod(q), 'x'); x = R.gen()\n",
    "    R = R.quotient(x^n + 1, 'x'); x = R.gen()\n",
    "    return R\n",
    "\n"
   ]
  },
  {
   "cell_type": "code",
   "execution_count": 567,
   "metadata": {},
   "outputs": [],
   "source": [
    "def define_ZZ_ring(n):\n",
    "    R = PolynomialRing(ZZ, 'x'); x = R.gen()\n",
    "    R = R.quotient(x^n+1, 'x'); x = R.gen()\n",
    "    return R"
   ]
  },
  {
   "cell_type": "code",
   "execution_count": 568,
   "metadata": {},
   "outputs": [],
   "source": [
    "def define_QQ_ring(n):\n",
    "    R = PolynomialRing(QQ, 'x'); x = R.gen()\n",
    "    R = R.quotient(x^n+1, 'x'); x = R.gen()\n",
    "    return R\n"
   ]
  },
  {
   "cell_type": "code",
   "execution_count": 569,
   "metadata": {},
   "outputs": [],
   "source": [
    "def R2S(r_element, S):\n",
    "    \n",
    "    return S([int(x) for x in r_element])"
   ]
  },
  {
   "cell_type": "code",
   "execution_count": 570,
   "metadata": {},
   "outputs": [],
   "source": [
    "def buildgadget(k, R):\n",
    "    G = np.empty(shape=(2, 2 * k), dtype=object)\n",
    "    for i in range(2):\n",
    "        for j in range(2 * k):\n",
    "            if i == 0 and j < k:\n",
    "                G[i][j] = R([2 ** j])\n",
    "            elif i == 1 and j >= k:\n",
    "                G[i][j] = R([2 ** (j-k)])\n",
    "            else:\n",
    "                G[i][j] = R([0])\n",
    "    return G"
   ]
  },
  {
   "cell_type": "code",
   "execution_count": 880,
   "metadata": {},
   "outputs": [],
   "source": [
    "from sage.stats.distributions.discrete_gaussian_polynomial import DiscreteGaussianDistributionPolynomialSampler\n",
    "import numpy as np\n",
    "\n",
    "\n",
    "def key_gen(k, q, n, R, sigma, p):\n",
    "    # generate random vector a from R_q\n",
    "    # sage.rings.polynomial.polynomial_ring.PolynomialRing_dense_finite_field_with_category\n",
    "    a = np.empty(shape=(2 * k,), dtype=object)\n",
    "    for i in range(2 * k):  \n",
    "        a[i] = R.random_element()\n",
    "    \n",
    "    # generate random element s from R_q\n",
    "    s_ = R.random_element()\n",
    "    s = np.empty(shape=(2,), dtype=object)\n",
    "    s[0] = (-1) * s_\n",
    "    s[1] = R([1])\n",
    "    \n",
    "    O = define_Zq_ring(10, n)\n",
    "    # generate e from discrete gaussian distribution over R_q\n",
    "    e = np.empty(shape=(2 * k,), dtype=object)\n",
    "    for i in range(2 * k):\n",
    "#         e[i] = DiscreteGaussianDistributionPolynomialSampler(R, n, sigma)()\n",
    "        x = O.random_element()\n",
    "        \n",
    "        e[i] = R([p * int(i) for i in list(x)])\n",
    "\n",
    "    \n",
    "    # compute b = a * s_ + e\n",
    "    b = np.empty(shape=(2 * k,), dtype=object)\n",
    "    for i in range(2 * k):\n",
    "        b[i] = a[i] * s_\n",
    "    for i in range(len(b)):\n",
    "        b[i] = b[i] + e[i]\n",
    "    \n",
    "    # compute A = [a \\\\ b]\n",
    "    a = a.reshape(1, 2 * k)\n",
    "    b = b.reshape(1, 2 * k)\n",
    "    A = np.concatenate((a, b), axis=0)\n",
    "    return A, s"
   ]
  },
  {
   "cell_type": "code",
   "execution_count": 881,
   "metadata": {},
   "outputs": [],
   "source": [
    "def Enc(m, ek, k, R):\n",
    "    # Enc\n",
    "\n",
    "    # generate random matrix R_ from R_q\n",
    "    R_ = np.empty(shape=(2 * k, 2 * k), dtype=object)\n",
    "    for i in range(2 * k):\n",
    "        for j in range(2 * k):\n",
    "            R_[i][j] = R([np.random.randint(0,2)])\n",
    "\n",
    "    # generate gadget matrix G\n",
    "    G = buildgadget(k, R)\n",
    "\n",
    "    # compute the ciphertext c = A(2,2k) * R_(2k,2k) + m * G(2,2k)\n",
    "    c = np.full(shape=(2, 2 * k), fill_value=R([0]), dtype=object)\n",
    "    for i in range(2):\n",
    "        for j in range(2 * k):\n",
    "            for w in range(2 * k):\n",
    "                c[i][j] += ek[i][w] * R_[w][j]\n",
    "            c[i][j] += m * G[i][j]\n",
    "            \n",
    "    return c\n",
    "    "
   ]
  },
  {
   "cell_type": "code",
   "execution_count": 882,
   "metadata": {},
   "outputs": [],
   "source": [
    "def Dec(c, dk, k):\n",
    "#     msg = np.array([np.dot(dk, c[:, i]) for i in range(2 * k)])\n",
    "#     G = buildgadget(k, R)\n",
    "#     sg = np.array([np.dot(dk, G[:, i]) for i in range(2 * k)])\n",
    "    \n",
    "#     msg_S = np.array([R2S(msg[i], S) for i in range(2 * k)])\n",
    "#     sg_S = np.array([R2S(sg[i], S) for i in range(2 * k)])\n",
    " \n",
    "#     print(f\"msg_S={msg_S}\")\n",
    "#     print(f\"sg_S={sg_S}\")\n",
    "    \n",
    "#     div = np.full(shape=(2 * k,), fill_value=S([0]),dtype=object)\n",
    "#     for j in range(2 * k):\n",
    "#         div[j] = S([int(i) for i in list(msg_S[j]/sg_S[j])])\n",
    "#     print(f\"div={div}\")\n",
    "\n",
    "    m = np.dot(dk, c[:, k])\n",
    "    \n",
    "    return m"
   ]
  },
  {
   "cell_type": "code",
   "execution_count": 893,
   "metadata": {},
   "outputs": [
    {
     "name": "stdout",
     "output_type": "stream",
     "text": [
      "n = 64\n",
      "q = 148599429040679\n",
      "k = 48\n",
      "sigma = 1341\n",
      "R = Univariate Quotient Polynomial Ring in x over Ring of integers modulo 148599429040679 with modulus x^64 + 1\n",
      "m = x^63 + x^62 + x^61 + x^60 + x^58 + x^54 + x^53 + x^50 + x^49 + x^48 + x^47 + x^42 + x^40 + x^30 + x^29 + x^22 + x^21 + x^20 + x^19 + x^15 + x^14 + x^13 + x^10 + x^6 + x^5 + x^4 + x^3 + x^2 + 1\n"
     ]
    }
   ],
   "source": [
    "n = 64\n",
    "q = random_prime(n**8, lbound=n**7)\n",
    "\n",
    "# k = math.ceil(math.log(q, 2))\n",
    "k = 0\n",
    "while 2 ** k < q:\n",
    "    k += 1\n",
    "\n",
    "sigma = int((n ** 1.5) * (math.log(q, 2) ** 0.25))\n",
    "\n",
    "print(f\"n = {n}\")\n",
    "print(f\"q = {q}\")\n",
    "print(f\"k = {k}\")\n",
    "print(f\"sigma = {sigma}\")\n",
    "\n",
    "# polynomial ring R_q\n",
    "R = define_Zq_ring(q, n)\n",
    "print(f\"R = {R}\")\n",
    "\n",
    "p = 2\n",
    "S = define_Zq_ring(p, n)\n",
    "m = S.random_element() \n",
    "print(f\"m = {m}\")"
   ]
  },
  {
   "cell_type": "code",
   "execution_count": 894,
   "metadata": {},
   "outputs": [],
   "source": [
    "# KeyGen\n",
    "ek, dk= key_gen(k, q, n, R, sigma, p)"
   ]
  },
  {
   "cell_type": "code",
   "execution_count": 896,
   "metadata": {},
   "outputs": [
    {
     "name": "stdout",
     "output_type": "stream",
     "text": [
      "[1, 0, 1, 1, 1, 1, 1, 0, 0, 0, 1, 0, 0, 1, 1, 1, 0, 0, 0, 1, 1, 1, 1, 0, 0, 0, 0, 0, 0, 1, 1, 0, 0, 0, 0, 0, 0, 0, 0, 0, 1, 0, 1, 0, 0, 0, 0, 1, 1, 1, 1, 0, 0, 1, 1, 0, 0, 0, 1, 0, 1, 1, 1, 1]\n",
      "[1, 0, 1, 1, 1, 1, 1, 0, 0, 0, 1, 0, 0, 1, 1, 1, 0, 0, 0, 1, 1, 1, 1, 0, 0, 0, 0, 0, 0, 1, 1, 0, 0, 0, 0, 0, 0, 0, 0, 0, 1, 0, 1, 0, 0, 0, 0, 1, 1, 1, 1, 0, 0, 1, 1, 0, 0, 0, 1, 0, 1, 1, 1, 1]\n",
      "m:  x^63 + x^62 + x^61 + x^60 + x^58 + x^54 + x^53 + x^50 + x^49 + x^48 + x^47 + x^42 + x^40 + x^30 + x^29 + x^22 + x^21 + x^20 + x^19 + x^15 + x^14 + x^13 + x^10 + x^6 + x^5 + x^4 + x^3 + x^2 + 1 \n",
      "\n",
      "m_: 449*x^63 + 487*x^62 + 431*x^61 + 465*x^60 + 566*x^59 + 471*x^58 + 432*x^57 + 398*x^56 + 472*x^55 + 473*x^54 + 455*x^53 + 442*x^52 + 418*x^51 + 441*x^50 + 479*x^49 + 507*x^48 + 435*x^47 + 426*x^46 + 372*x^45 + 462*x^44 + 458*x^43 + 453*x^42 + 530*x^41 + 461*x^40 + 502*x^39 + 474*x^38 + 442*x^37 + 472*x^36 + 452*x^35 + 396*x^34 + 418*x^33 + 492*x^32 + 496*x^31 + 475*x^30 + 471*x^29 + 408*x^28 + 486*x^27 + 420*x^26 + 476*x^25 + 438*x^24 + 458*x^23 + 485*x^22 + 427*x^21 + 521*x^20 + 401*x^19 + 442*x^18 + 500*x^17 + 486*x^16 + 375*x^15 + 433*x^14 + 391*x^13 + 410*x^12 + 416*x^11 + 457*x^10 + 458*x^9 + 428*x^8 + 454*x^7 + 483*x^6 + 347*x^5 + 407*x^4 + 513*x^3 + 361*x^2 + 454*x + 443\n"
     ]
    }
   ],
   "source": [
    "# Encrypt\n",
    "c = Enc(R2S(m, R), ek, k, R)\n",
    "# Decrypt\n",
    "m_ = Dec(c, dk, k)\n",
    "x = list(m_)\n",
    "print(list(m))\n",
    "print([int(i)%p for i in x])\n",
    "\n",
    "\n",
    "print(\"m: \", m, '\\n')\n",
    "print(\"m_:\", m_)\n"
   ]
  }
 ],
 "metadata": {
  "kernelspec": {
   "display_name": "SageMath 9.3",
   "language": "sage",
   "name": "sagemath-9.3"
  },
  "language_info": {
   "codemirror_mode": {
    "name": "ipython",
    "version": 3
   },
   "file_extension": ".py",
   "mimetype": "text/x-python",
   "name": "python",
   "nbconvert_exporter": "python",
   "pygments_lexer": "ipython3",
   "version": "3.9.2"
  }
 },
 "nbformat": 4,
 "nbformat_minor": 4
}
